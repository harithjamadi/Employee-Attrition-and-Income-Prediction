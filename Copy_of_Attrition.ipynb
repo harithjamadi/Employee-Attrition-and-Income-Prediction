{
  "nbformat": 4,
  "nbformat_minor": 0,
  "metadata": {
    "colab": {
      "provenance": []
    },
    "kernelspec": {
      "name": "ir",
      "display_name": "R"
    },
    "language_info": {
      "name": "R"
    }
  },
  "cells": [
    {
      "cell_type": "markdown",
      "source": [
        "# Load Packages & Data"
      ],
      "metadata": {
        "id": "DNdtS8DrPy02"
      }
    },
    {
      "cell_type": "code",
      "execution_count": null,
      "metadata": {
        "id": "QIKZi-1yJN8Y",
        "outputId": "c9b2e6c1-0fec-4231-e176-b6ffd10ece67",
        "colab": {
          "base_uri": "https://localhost:8080/"
        }
      },
      "outputs": [
        {
          "output_type": "stream",
          "name": "stderr",
          "text": [
            "Installing packages into ‘/usr/local/lib/R/site-library’\n",
            "(as ‘lib’ is unspecified)\n",
            "\n",
            "also installing the dependencies ‘listenv’, ‘parallelly’, ‘future’, ‘globals’, ‘shape’, ‘future.apply’, ‘numDeriv’, ‘progressr’, ‘SQUAREM’, ‘diagram’, ‘lava’, ‘prodlim’, ‘data.tree’, ‘igraph’, ‘proxy’, ‘iterators’, ‘clock’, ‘gower’, ‘hardhat’, ‘ipred’, ‘sparsevctrs’, ‘timeDate’, ‘reshape2’, ‘gridExtra’, ‘networkD3’, ‘e1071’, ‘foreach’, ‘ModelMetrics’, ‘plyr’, ‘pROC’, ‘recipes’\n",
            "\n",
            "\n"
          ]
        }
      ],
      "source": [
        "# Install required packages if missing\n",
        "packages <- c(\"googledrive\", \"tidyverse\", \"skimr\", \"DataExplorer\", \"corrplot\", \"ggplot2\", \"dplyr\", \"caret\", \"randomForest\", \"gbm\")\n",
        "installed <- packages %in% installed.packages()\n",
        "if (any(!installed)) install.packages(packages[!installed])\n",
        "\n",
        "# Load them\n",
        "library(googledrive)\n",
        "library(tidyverse)\n",
        "library(skimr)\n",
        "library(DataExplorer)\n",
        "library(corrplot)\n",
        "library(ggplot2)\n",
        "library(dplyr)\n",
        "library(cluster)\n",
        "library(caret)\n",
        "library(randomForest)\n",
        "library(gbm)"
      ]
    },
    {
      "cell_type": "code",
      "source": [
        "# drive_auth()"
      ],
      "metadata": {
        "id": "JnERLjTmR-4f"
      },
      "execution_count": null,
      "outputs": []
    },
    {
      "cell_type": "code",
      "source": [
        "# # Adjust the file name to match exactly what’s in your Google Drive\n",
        "# file <- drive_get(path = \"WQD7004/HR-Employee-Attrition.csv\")\n",
        "# drive_download(file, path = \"HR.csv\", overwrite = TRUE)"
      ],
      "metadata": {
        "id": "tUS97qAFULCa"
      },
      "execution_count": null,
      "outputs": []
    },
    {
      "cell_type": "code",
      "source": [
        "attrition <- read.csv(\"HR.csv\")\n",
        "head(attrition)"
      ],
      "metadata": {
        "id": "StIfVEJKJkf4"
      },
      "execution_count": null,
      "outputs": []
    },
    {
      "cell_type": "markdown",
      "source": [
        "# Data Cleaning, Understanding & Exploration"
      ],
      "metadata": {
        "id": "uw8SferHJfQK"
      }
    },
    {
      "cell_type": "code",
      "source": [
        "# Check structure and summary\n",
        "str(attrition)"
      ],
      "metadata": {
        "id": "WGKRXSgBKZ7D"
      },
      "execution_count": null,
      "outputs": []
    },
    {
      "cell_type": "code",
      "source": [
        "summary(attrition)"
      ],
      "metadata": {
        "id": "ukqMLRlihsz7",
        "colab": {
          "base_uri": "https://localhost:8080/",
          "height": 1000
        },
        "outputId": "5872a843-3ea7-46ac-a971-3b809177dfbb"
      },
      "execution_count": null,
      "outputs": [
        {
          "output_type": "display_data",
          "data": {
            "text/plain": [
              "      Age         Attrition         BusinessTravel       DailyRate     \n",
              " Min.   :18.00   Length:1470        Length:1470        Min.   : 102.0  \n",
              " 1st Qu.:30.00   Class :character   Class :character   1st Qu.: 465.0  \n",
              " Median :36.00   Mode  :character   Mode  :character   Median : 802.0  \n",
              " Mean   :36.92                                         Mean   : 802.5  \n",
              " 3rd Qu.:43.00                                         3rd Qu.:1157.0  \n",
              " Max.   :60.00                                         Max.   :1499.0  \n",
              "  Department        DistanceFromHome   Education     EducationField    \n",
              " Length:1470        Min.   : 1.000   Min.   :1.000   Length:1470       \n",
              " Class :character   1st Qu.: 2.000   1st Qu.:2.000   Class :character  \n",
              " Mode  :character   Median : 7.000   Median :3.000   Mode  :character  \n",
              "                    Mean   : 9.193   Mean   :2.913                     \n",
              "                    3rd Qu.:14.000   3rd Qu.:4.000                     \n",
              "                    Max.   :29.000   Max.   :5.000                     \n",
              " EmployeeCount EmployeeNumber   EnvironmentSatisfaction    Gender         \n",
              " Min.   :1     Min.   :   1.0   Min.   :1.000           Length:1470       \n",
              " 1st Qu.:1     1st Qu.: 491.2   1st Qu.:2.000           Class :character  \n",
              " Median :1     Median :1020.5   Median :3.000           Mode  :character  \n",
              " Mean   :1     Mean   :1024.9   Mean   :2.722                             \n",
              " 3rd Qu.:1     3rd Qu.:1555.8   3rd Qu.:4.000                             \n",
              " Max.   :1     Max.   :2068.0   Max.   :4.000                             \n",
              "   HourlyRate     JobInvolvement    JobLevel       JobRole         \n",
              " Min.   : 30.00   Min.   :1.00   Min.   :1.000   Length:1470       \n",
              " 1st Qu.: 48.00   1st Qu.:2.00   1st Qu.:1.000   Class :character  \n",
              " Median : 66.00   Median :3.00   Median :2.000   Mode  :character  \n",
              " Mean   : 65.89   Mean   :2.73   Mean   :2.064                     \n",
              " 3rd Qu.: 83.75   3rd Qu.:3.00   3rd Qu.:3.000                     \n",
              " Max.   :100.00   Max.   :4.00   Max.   :5.000                     \n",
              " JobSatisfaction MaritalStatus      MonthlyIncome    MonthlyRate   \n",
              " Min.   :1.000   Length:1470        Min.   : 1009   Min.   : 2094  \n",
              " 1st Qu.:2.000   Class :character   1st Qu.: 2911   1st Qu.: 8047  \n",
              " Median :3.000   Mode  :character   Median : 4919   Median :14236  \n",
              " Mean   :2.729                      Mean   : 6503   Mean   :14313  \n",
              " 3rd Qu.:4.000                      3rd Qu.: 8379   3rd Qu.:20462  \n",
              " Max.   :4.000                      Max.   :19999   Max.   :26999  \n",
              " NumCompaniesWorked    Over18            OverTime         PercentSalaryHike\n",
              " Min.   :0.000      Length:1470        Length:1470        Min.   :11.00    \n",
              " 1st Qu.:1.000      Class :character   Class :character   1st Qu.:12.00    \n",
              " Median :2.000      Mode  :character   Mode  :character   Median :14.00    \n",
              " Mean   :2.693                                            Mean   :15.21    \n",
              " 3rd Qu.:4.000                                            3rd Qu.:18.00    \n",
              " Max.   :9.000                                            Max.   :25.00    \n",
              " PerformanceRating RelationshipSatisfaction StandardHours StockOptionLevel\n",
              " Min.   :3.000     Min.   :1.000            Min.   :80    Min.   :0.0000  \n",
              " 1st Qu.:3.000     1st Qu.:2.000            1st Qu.:80    1st Qu.:0.0000  \n",
              " Median :3.000     Median :3.000            Median :80    Median :1.0000  \n",
              " Mean   :3.154     Mean   :2.712            Mean   :80    Mean   :0.7939  \n",
              " 3rd Qu.:3.000     3rd Qu.:4.000            3rd Qu.:80    3rd Qu.:1.0000  \n",
              " Max.   :4.000     Max.   :4.000            Max.   :80    Max.   :3.0000  \n",
              " TotalWorkingYears TrainingTimesLastYear WorkLifeBalance YearsAtCompany  \n",
              " Min.   : 0.00     Min.   :0.000         Min.   :1.000   Min.   : 0.000  \n",
              " 1st Qu.: 6.00     1st Qu.:2.000         1st Qu.:2.000   1st Qu.: 3.000  \n",
              " Median :10.00     Median :3.000         Median :3.000   Median : 5.000  \n",
              " Mean   :11.28     Mean   :2.799         Mean   :2.761   Mean   : 7.008  \n",
              " 3rd Qu.:15.00     3rd Qu.:3.000         3rd Qu.:3.000   3rd Qu.: 9.000  \n",
              " Max.   :40.00     Max.   :6.000         Max.   :4.000   Max.   :40.000  \n",
              " YearsInCurrentRole YearsSinceLastPromotion YearsWithCurrManager\n",
              " Min.   : 0.000     Min.   : 0.000          Min.   : 0.000      \n",
              " 1st Qu.: 2.000     1st Qu.: 0.000          1st Qu.: 2.000      \n",
              " Median : 3.000     Median : 1.000          Median : 3.000      \n",
              " Mean   : 4.229     Mean   : 2.188          Mean   : 4.123      \n",
              " 3rd Qu.: 7.000     3rd Qu.: 3.000          3rd Qu.: 7.000      \n",
              " Max.   :18.000     Max.   :15.000          Max.   :17.000      "
            ]
          },
          "metadata": {}
        }
      ]
    },
    {
      "cell_type": "code",
      "source": [
        "skim(attrition)"
      ],
      "metadata": {
        "id": "QZ7quYCGh_AM",
        "colab": {
          "base_uri": "https://localhost:8080/",
          "height": 1000
        },
        "outputId": "70ca7c8f-fd5e-4746-b687-120ecb9249d9"
      },
      "execution_count": null,
      "outputs": [
        {
          "output_type": "stream",
          "name": "stdout",
          "text": [
            "── Data Summary ────────────────────────\n",
            "                           Values   \n",
            "Name                       attrition\n",
            "Number of rows             1470     \n",
            "Number of columns          35       \n",
            "_______________________             \n",
            "Column type frequency:              \n",
            "  character                9        \n",
            "  numeric                  26       \n",
            "________________________            \n",
            "Group variables            None     \n",
            "\n",
            "── Variable type: character ────────────────────────────────────────────────────\n",
            "  skim_variable  n_missing complete_rate min max empty n_unique whitespace\n",
            "\u001b[90m1\u001b[39m Attrition              0             1   2   3     0        2          0\n",
            "\u001b[90m2\u001b[39m BusinessTravel         0             1  10  17     0        3          0\n",
            "\u001b[90m3\u001b[39m Department             0             1   5  22     0        3          0\n",
            "\u001b[90m4\u001b[39m EducationField         0             1   5  16     0        6          0\n",
            "\u001b[90m5\u001b[39m Gender                 0             1   4   6     0        2          0\n",
            "\u001b[90m6\u001b[39m JobRole                0             1   7  25     0        9          0\n",
            "\u001b[90m7\u001b[39m MaritalStatus          0             1   6   8     0        3          0\n",
            "\u001b[90m8\u001b[39m Over18                 0             1   1   1     0        1          0\n",
            "\u001b[90m9\u001b[39m OverTime               0             1   2   3     0        2          0\n",
            "\n",
            "── Variable type: numeric ──────────────────────────────────────────────────────\n",
            "   skim_variable            n_missing complete_rate      mean       sd   p0\n",
            "\u001b[90m 1\u001b[39m Age                              0             1    36.9      9.14    18\n",
            "\u001b[90m 2\u001b[39m DailyRate                        0             1   802.     404.     102\n",
            "\u001b[90m 3\u001b[39m DistanceFromHome                 0             1     9.19     8.11     1\n",
            "\u001b[90m 4\u001b[39m Education                        0             1     2.91     1.02     1\n",
            "\u001b[90m 5\u001b[39m EmployeeCount                    0             1     1        0        1\n",
            "\u001b[90m 6\u001b[39m EmployeeNumber                   0             1  \u001b[4m1\u001b[24m025.     602.       1\n",
            "\u001b[90m 7\u001b[39m EnvironmentSatisfaction          0             1     2.72     1.09     1\n",
            "\u001b[90m 8\u001b[39m HourlyRate                       0             1    65.9     20.3     30\n",
            "\u001b[90m 9\u001b[39m JobInvolvement                   0             1     2.73     0.712    1\n",
            "\u001b[90m10\u001b[39m JobLevel                         0             1     2.06     1.11     1\n",
            "\u001b[90m11\u001b[39m JobSatisfaction                  0             1     2.73     1.10     1\n",
            "\u001b[90m12\u001b[39m MonthlyIncome                    0             1  \u001b[4m6\u001b[24m503.    \u001b[4m4\u001b[24m708.    \u001b[4m1\u001b[24m009\n",
            "\u001b[90m13\u001b[39m MonthlyRate                      0             1 \u001b[4m1\u001b[24m\u001b[4m4\u001b[24m313.    \u001b[4m7\u001b[24m118.    \u001b[4m2\u001b[24m094\n",
            "\u001b[90m14\u001b[39m NumCompaniesWorked               0             1     2.69     2.50     0\n",
            "\u001b[90m15\u001b[39m PercentSalaryHike                0             1    15.2      3.66    11\n",
            "\u001b[90m16\u001b[39m PerformanceRating                0             1     3.15     0.361    3\n",
            "\u001b[90m17\u001b[39m RelationshipSatisfaction         0             1     2.71     1.08     1\n",
            "\u001b[90m18\u001b[39m StandardHours                    0             1    80        0       80\n",
            "\u001b[90m19\u001b[39m StockOptionLevel                 0             1     0.794    0.852    0\n",
            "\u001b[90m20\u001b[39m TotalWorkingYears                0             1    11.3      7.78     0\n",
            "\u001b[90m21\u001b[39m TrainingTimesLastYear            0             1     2.80     1.29     0\n",
            "\u001b[90m22\u001b[39m WorkLifeBalance                  0             1     2.76     0.706    1\n",
            "\u001b[90m23\u001b[39m YearsAtCompany                   0             1     7.01     6.13     0\n",
            "\u001b[90m24\u001b[39m YearsInCurrentRole               0             1     4.23     3.62     0\n",
            "\u001b[90m25\u001b[39m YearsSinceLastPromotion          0             1     2.19     3.22     0\n",
            "\u001b[90m26\u001b[39m YearsWithCurrManager             0             1     4.12     3.57     0\n",
            "     p25    p50     p75  p100 hist \n",
            "\u001b[90m 1\u001b[39m   30     36     43      60 ▂▇▇▃▂\n",
            "\u001b[90m 2\u001b[39m  465    802   \u001b[4m1\u001b[24m157    \u001b[4m1\u001b[24m499 ▇▇▇▇▇\n",
            "\u001b[90m 3\u001b[39m    2      7     14      29 ▇▅▂▂▂\n",
            "\u001b[90m 4\u001b[39m    2      3      4       5 ▂▃▇▆▁\n",
            "\u001b[90m 5\u001b[39m    1      1      1       1 ▁▁▇▁▁\n",
            "\u001b[90m 6\u001b[39m  491.  \u001b[4m1\u001b[24m020.  \u001b[4m1\u001b[24m556.   \u001b[4m2\u001b[24m068 ▇▇▇▇▇\n",
            "\u001b[90m 7\u001b[39m    2      3      4       4 ▅▅▁▇▇\n",
            "\u001b[90m 8\u001b[39m   48     66     83.8   100 ▇▇▇▇▇\n",
            "\u001b[90m 9\u001b[39m    2      3      3       4 ▁▃▁▇▁\n",
            "\u001b[90m10\u001b[39m    1      2      3       5 ▇▇▃▂▁\n",
            "\u001b[90m11\u001b[39m    2      3      4       4 ▅▅▁▇▇\n",
            "\u001b[90m12\u001b[39m \u001b[4m2\u001b[24m911   \u001b[4m4\u001b[24m919   \u001b[4m8\u001b[24m379   \u001b[4m1\u001b[24m\u001b[4m9\u001b[24m999 ▇▅▂▁▂\n",
            "\u001b[90m13\u001b[39m \u001b[4m8\u001b[24m047  \u001b[4m1\u001b[24m\u001b[4m4\u001b[24m236. \u001b[4m2\u001b[24m\u001b[4m0\u001b[24m462.  \u001b[4m2\u001b[24m\u001b[4m6\u001b[24m999 ▇▇▇▇▇\n",
            "\u001b[90m14\u001b[39m    1      2      4       9 ▇▃▂▂▁\n",
            "\u001b[90m15\u001b[39m   12     14     18      25 ▇▅▃▂▁\n",
            "\u001b[90m16\u001b[39m    3      3      3       4 ▇▁▁▁▂\n",
            "\u001b[90m17\u001b[39m    2      3      4       4 ▅▅▁▇▇\n",
            "\u001b[90m18\u001b[39m   80     80     80      80 ▁▁▇▁▁\n",
            "\u001b[90m19\u001b[39m    0      1      1       3 ▇▇▁▂▁\n",
            "\u001b[90m20\u001b[39m    6     10     15      40 ▇▇▂▁▁\n",
            "\u001b[90m21\u001b[39m    2      3      3       6 ▂▇▇▂▃\n",
            "\u001b[90m22\u001b[39m    2      3      3       4 ▁▃▁▇▂\n",
            "\u001b[90m23\u001b[39m    3      5      9      40 ▇▂▁▁▁\n",
            "\u001b[90m24\u001b[39m    2      3      7      18 ▇▃▂▁▁\n",
            "\u001b[90m25\u001b[39m    0      1      3      15 ▇▁▁▁▁\n",
            "\u001b[90m26\u001b[39m    2      3      7      17 ▇▂▅▁▁\n"
          ]
        },
        {
          "output_type": "error",
          "ename": "ERROR",
          "evalue": "Error in is.null(text_repr) || nchar(text_repr) == 0L: 'length = 17' in coercion to 'logical(1)'\n",
          "traceback": [
            "Error in is.null(text_repr) || nchar(text_repr) == 0L: 'length = 17' in coercion to 'logical(1)'\nTraceback:\n",
            "1. prepare_mimebundle_kernel(obj, .self$handle_display_error)",
            "2. .handleSimpleError(function (cnd) \n . {\n .     watcher$capture_plot_and_output()\n .     cnd <- sanitize_call(cnd)\n .     watcher$push(cnd)\n .     switch(on_error, continue = invokeRestart(\"eval_continue\"), \n .         stop = invokeRestart(\"eval_stop\"), error = NULL)\n . }, \"'length = 17' in coercion to 'logical(1)'\", base::quote(is.null(text_repr) || \n .     nchar(text_repr) == 0L))"
          ]
        }
      ]
    },
    {
      "cell_type": "markdown",
      "source": [
        "**Check Missing Values & Duplicates**"
      ],
      "metadata": {
        "id": "kCz86xBffkz5"
      }
    },
    {
      "cell_type": "code",
      "source": [
        "# Missing values count\n",
        "colSums(is.na(attrition))\n",
        "\n",
        "# Visualize missing data\n",
        "plot_missing(attrition)\n",
        "\n",
        "# Check for duplicate rows\n",
        "sum(duplicated(attrition))"
      ],
      "metadata": {
        "id": "3bJrzpmMfgzh"
      },
      "execution_count": null,
      "outputs": []
    },
    {
      "cell_type": "markdown",
      "source": [
        "**Encode Categorical Variables**"
      ],
      "metadata": {
        "id": "rE7n-U8TgJ6q"
      }
    },
    {
      "cell_type": "code",
      "source": [
        "# Convert categorical variables to factors\n",
        "attrition <- attrition %>%\n",
        "  mutate(\n",
        "    Attrition = as.factor(Attrition),\n",
        "    BusinessTravel = as.factor(BusinessTravel),\n",
        "    Department = as.factor(Department),\n",
        "    EducationField = as.factor(EducationField),\n",
        "    Gender = as.factor(Gender),\n",
        "    JobRole = as.factor(JobRole),\n",
        "    MaritalStatus = as.factor(MaritalStatus),\n",
        "    OverTime = as.factor(OverTime),\n",
        "    Over18 = as.factor(Over18)\n",
        "  )"
      ],
      "metadata": {
        "id": "wwDMjqlWgG0i"
      },
      "execution_count": null,
      "outputs": []
    },
    {
      "cell_type": "code",
      "source": [
        "str(attrition)"
      ],
      "metadata": {
        "id": "BMfb9qducl5j",
        "colab": {
          "base_uri": "https://localhost:8080/"
        },
        "outputId": "328f8616-6e37-42d6-fa2a-67c9043b4d4c"
      },
      "execution_count": null,
      "outputs": [
        {
          "output_type": "stream",
          "name": "stdout",
          "text": [
            "'data.frame':\t1470 obs. of  35 variables:\n",
            " $ Age                     : int  41 49 37 33 27 32 59 30 38 36 ...\n",
            " $ Attrition               : Factor w/ 2 levels \"No\",\"Yes\": 2 1 2 1 1 1 1 1 1 1 ...\n",
            " $ BusinessTravel          : Factor w/ 3 levels \"Non-Travel\",\"Travel_Frequently\",..: 3 2 3 2 3 2 3 3 2 3 ...\n",
            " $ DailyRate               : int  1102 279 1373 1392 591 1005 1324 1358 216 1299 ...\n",
            " $ Department              : Factor w/ 3 levels \"Human Resources\",..: 3 2 2 2 2 2 2 2 2 2 ...\n",
            " $ DistanceFromHome        : int  1 8 2 3 2 2 3 24 23 27 ...\n",
            " $ Education               : int  2 1 2 4 1 2 3 1 3 3 ...\n",
            " $ EducationField          : Factor w/ 6 levels \"Human Resources\",..: 2 2 5 2 4 2 4 2 2 4 ...\n",
            " $ EmployeeCount           : int  1 1 1 1 1 1 1 1 1 1 ...\n",
            " $ EmployeeNumber          : int  1 2 4 5 7 8 10 11 12 13 ...\n",
            " $ EnvironmentSatisfaction : int  2 3 4 4 1 4 3 4 4 3 ...\n",
            " $ Gender                  : Factor w/ 2 levels \"Female\",\"Male\": 1 2 2 1 2 2 1 2 2 2 ...\n",
            " $ HourlyRate              : int  94 61 92 56 40 79 81 67 44 94 ...\n",
            " $ JobInvolvement          : int  3 2 2 3 3 3 4 3 2 3 ...\n",
            " $ JobLevel                : int  2 2 1 1 1 1 1 1 3 2 ...\n",
            " $ JobRole                 : Factor w/ 9 levels \"Healthcare Representative\",..: 8 7 3 7 3 3 3 3 5 1 ...\n",
            " $ JobSatisfaction         : int  4 2 3 3 2 4 1 3 3 3 ...\n",
            " $ MaritalStatus           : Factor w/ 3 levels \"Divorced\",\"Married\",..: 3 2 3 2 2 3 2 1 3 2 ...\n",
            " $ MonthlyIncome           : int  5993 5130 2090 2909 3468 3068 2670 2693 9526 5237 ...\n",
            " $ MonthlyRate             : int  19479 24907 2396 23159 16632 11864 9964 13335 8787 16577 ...\n",
            " $ NumCompaniesWorked      : int  8 1 6 1 9 0 4 1 0 6 ...\n",
            " $ Over18                  : Factor w/ 1 level \"Y\": 1 1 1 1 1 1 1 1 1 1 ...\n",
            " $ OverTime                : Factor w/ 2 levels \"No\",\"Yes\": 2 1 2 2 1 1 2 1 1 1 ...\n",
            " $ PercentSalaryHike       : int  11 23 15 11 12 13 20 22 21 13 ...\n",
            " $ PerformanceRating       : int  3 4 3 3 3 3 4 4 4 3 ...\n",
            " $ RelationshipSatisfaction: int  1 4 2 3 4 3 1 2 2 2 ...\n",
            " $ StandardHours           : int  80 80 80 80 80 80 80 80 80 80 ...\n",
            " $ StockOptionLevel        : int  0 1 0 0 1 0 3 1 0 2 ...\n",
            " $ TotalWorkingYears       : int  8 10 7 8 6 8 12 1 10 17 ...\n",
            " $ TrainingTimesLastYear   : int  0 3 3 3 3 2 3 2 2 3 ...\n",
            " $ WorkLifeBalance         : int  1 3 3 3 3 2 2 3 3 2 ...\n",
            " $ YearsAtCompany          : int  6 10 0 8 2 7 1 1 9 7 ...\n",
            " $ YearsInCurrentRole      : int  4 7 0 7 2 7 0 0 7 7 ...\n",
            " $ YearsSinceLastPromotion : int  0 1 0 3 2 3 0 0 1 7 ...\n",
            " $ YearsWithCurrManager    : int  5 7 0 0 2 6 0 0 8 7 ...\n"
          ]
        }
      ]
    },
    {
      "cell_type": "markdown",
      "source": [
        "**Summary Statistics Grouped by Attrition**"
      ],
      "metadata": {
        "id": "xTOuRqO5gyAq"
      }
    },
    {
      "cell_type": "code",
      "source": [
        "# Numeric summaries\n",
        "attrition %>%\n",
        "  group_by(Attrition) %>%\n",
        "  summarise(across(where(is.numeric), list(mean = mean, median = median), .names = \"{.col}_{.fn}\"))"
      ],
      "metadata": {
        "id": "sCqRTBUVg31p"
      },
      "execution_count": null,
      "outputs": []
    },
    {
      "cell_type": "markdown",
      "source": [
        "**Attrition Distribution**"
      ],
      "metadata": {
        "id": "aQ1Y_cqugil1"
      }
    },
    {
      "cell_type": "code",
      "source": [
        "# Bar chart of Attrition\n",
        "ggplot(attrition, aes(x = Attrition, fill = Attrition)) +\n",
        "  geom_bar() +\n",
        "  theme_minimal() +\n",
        "  labs(title = \"Attrition Distribution\", y = \"Count\")"
      ],
      "metadata": {
        "id": "RSaH5W-agpkP"
      },
      "execution_count": null,
      "outputs": []
    },
    {
      "cell_type": "markdown",
      "source": [
        "**Correlation Analysis (Numerical)**"
      ],
      "metadata": {
        "id": "Oj9IlhLygWfu"
      }
    },
    {
      "cell_type": "code",
      "source": [
        "# Select numeric columns\n",
        "numeric_vars <- attrition %>% select(where(is.numeric))\n",
        "\n",
        "# Correlation matrix\n",
        "cor_matrix <- cor(numeric_vars)\n",
        "\n",
        "# Visualize correlation\n",
        "corrplot(cor_matrix, method = \"color\", type = \"upper\", tl.cex = 0.8)"
      ],
      "metadata": {
        "id": "90hmtm1ugVFW"
      },
      "execution_count": null,
      "outputs": []
    },
    {
      "cell_type": "markdown",
      "source": [
        "**Univariate & Bivariate Analysis**"
      ],
      "metadata": {
        "id": "h_Da9nc-hBbR"
      }
    },
    {
      "cell_type": "code",
      "source": [
        "# Age Distribution\n",
        "ggplot(attrition, aes(x = Age)) +\n",
        "  geom_histogram(fill = \"steelblue\", bins = 30) +\n",
        "  theme_minimal() +\n",
        "  labs(title = \"Distribution of Age\")"
      ],
      "metadata": {
        "id": "6iSESgiFhKur"
      },
      "execution_count": null,
      "outputs": []
    },
    {
      "cell_type": "code",
      "source": [
        "# Monthly Income by Attrition\n",
        "ggplot(attrition, aes(x = Attrition, y = MonthlyIncome, fill = Attrition)) +\n",
        "  geom_boxplot() +\n",
        "  theme_minimal() +\n",
        "  labs(title = \"Monthly Income by Attrition\")"
      ],
      "metadata": {
        "id": "m0eWOBtRhTZx"
      },
      "execution_count": null,
      "outputs": []
    },
    {
      "cell_type": "code",
      "source": [
        "# Attrition by Job Role\n",
        "ggplot(attrition, aes(x = JobRole, fill = Attrition)) +\n",
        "  geom_bar(position = \"fill\") +\n",
        "  coord_flip() +\n",
        "  theme_minimal() +\n",
        "  labs(title = \"Attrition Rate by Job Role\", y = \"Proportion\")"
      ],
      "metadata": {
        "id": "gijgdnO7hYP8"
      },
      "execution_count": null,
      "outputs": []
    },
    {
      "cell_type": "code",
      "source": [
        "# OverTime vs Attrition\n",
        "ggplot(attrition, aes(x = OverTime, fill = Attrition)) +\n",
        "  geom_bar(position = \"fill\") +\n",
        "  theme_minimal() +\n",
        "  labs(title = \"Attrition Rate by Overtime\", y = \"Proportion\")"
      ],
      "metadata": {
        "id": "-CGHttlxhdqv"
      },
      "execution_count": null,
      "outputs": []
    },
    {
      "cell_type": "code",
      "source": [
        "ggplot(attrition, aes(x = Gender, fill = Attrition)) +\n",
        "  geom_bar(position = \"fill\") +\n",
        "  theme_minimal() +\n",
        "  labs(title = \"Attrition Rate by Gender\", y = \"Proportion\")\n"
      ],
      "metadata": {
        "id": "CDl3UwfdawBU"
      },
      "execution_count": null,
      "outputs": []
    },
    {
      "cell_type": "code",
      "source": [
        "ggplot(attrition, aes(x = MaritalStatus, fill = Attrition)) +\n",
        "  geom_bar(position = \"fill\") +\n",
        "  theme_minimal() +\n",
        "  labs(title = \"Attrition Rate by Marital Status\", y = \"Proportion\")\n"
      ],
      "metadata": {
        "id": "zZgjkgU1azrR"
      },
      "execution_count": null,
      "outputs": []
    },
    {
      "cell_type": "code",
      "source": [
        "ggplot(attrition, aes(x = Attrition, y = Age, fill = Attrition)) +\n",
        "  geom_boxplot() +\n",
        "  theme_minimal() +\n",
        "  labs(title = \"Age Distribution by Attrition\")\n"
      ],
      "metadata": {
        "id": "weyqEdB5a33W"
      },
      "execution_count": null,
      "outputs": []
    },
    {
      "cell_type": "code",
      "source": [
        "ggplot(attrition, aes(x = YearsAtCompany, fill = Attrition)) +\n",
        "  geom_histogram(position = \"identity\", alpha = 0.6, bins = 20) +\n",
        "  theme_minimal() +\n",
        "  labs(title = \"Years at Company by Attrition\")\n"
      ],
      "metadata": {
        "id": "sv92DIgja6BM"
      },
      "execution_count": null,
      "outputs": []
    },
    {
      "cell_type": "code",
      "source": [
        "ggplot(attrition, aes(x = factor(JobSatisfaction), fill = Attrition)) +\n",
        "  geom_bar(position = \"fill\") +\n",
        "  theme_minimal() +\n",
        "  labs(title = \"Attrition by Job Satisfaction\", x = \"Job Satisfaction (1â€“4)\", y = \"Proportion\")\n"
      ],
      "metadata": {
        "id": "iscJgK6Aa9Uw"
      },
      "execution_count": null,
      "outputs": []
    },
    {
      "cell_type": "code",
      "source": [
        "ggplot(attrition, aes(x = BusinessTravel, fill = Attrition)) +\n",
        "  geom_bar(position = \"fill\") +\n",
        "  theme_minimal() +\n",
        "  labs(title = \"Attrition Rate by Business Travel\", y = \"Proportion\")\n"
      ],
      "metadata": {
        "id": "TcpqLgW_bA90"
      },
      "execution_count": null,
      "outputs": []
    },
    {
      "cell_type": "code",
      "source": [
        "ggplot(attrition, aes(x = TotalWorkingYears, y = MonthlyIncome, color = Attrition)) +\n",
        "  geom_point(alpha = 0.6) +\n",
        "  theme_minimal() +\n",
        "  labs(title = \"Total Working Years vs. Monthly Income by Attrition\")\n"
      ],
      "metadata": {
        "id": "Sh2D5cFjbG8c"
      },
      "execution_count": null,
      "outputs": []
    },
    {
      "cell_type": "markdown",
      "source": [
        "# Regression Data Analysis"
      ],
      "metadata": {
        "id": "eGbZbOJnJwEl"
      }
    },
    {
      "cell_type": "code",
      "source": [
        "set.seed(123)\n",
        "\n",
        "attrition <- subset(attrition, select = -c(EmployeeCount, EmployeeNumber, Over18, StandardHours))\n",
        "\n",
        "split <- createDataPartition(attrition$MonthlyIncome, p = 0.8, list = FALSE)\n",
        "train <- attrition[split, ]\n",
        "test <- attrition[-split, ]\n",
        "\n",
        "print(head(train))\n",
        "print(head(test))"
      ],
      "metadata": {
        "id": "K-R9Wm-FJ0XO"
      },
      "execution_count": null,
      "outputs": []
    },
    {
      "cell_type": "code",
      "source": [
        "model_lm <- train(MonthlyIncome ~ ., data = train, method = \"lm\")"
      ],
      "metadata": {
        "id": "UJ1MoxKQdmn3"
      },
      "execution_count": null,
      "outputs": []
    },
    {
      "cell_type": "code",
      "source": [
        "model_rf <- train(MonthlyIncome ~ ., data = train, method = \"rf\", trControl = trainControl(method = \"cv\", number = 5))"
      ],
      "metadata": {
        "id": "6KBdlAHhe5FP"
      },
      "execution_count": null,
      "outputs": []
    },
    {
      "cell_type": "code",
      "source": [
        "model_gbm <- train(MonthlyIncome ~ ., data = train, method = \"gbm\", verbose = FALSE, trControl = trainControl(method = \"cv\", number = 5))"
      ],
      "metadata": {
        "id": "8P9wMJv3e7ss"
      },
      "execution_count": null,
      "outputs": []
    },
    {
      "cell_type": "code",
      "source": [
        "pred_lm <- predict(model_lm, newdata = test)\n",
        "pred_rf <- predict(model_rf, newdata = test)\n",
        "pred_gbm <- predict(model_gbm, newdata = test)\n",
        "\n",
        "postResample(pred_lm, obs = test$MonthlyIncome)\n",
        "postResample(pred_rf, obs = test$MonthlyIncome)\n",
        "postResample(pred_gbm, obs = test$MonthlyIncome)"
      ],
      "metadata": {
        "id": "zoifwrCPe88s"
      },
      "execution_count": null,
      "outputs": []
    },
    {
      "cell_type": "code",
      "source": [
        "ggplot(data.frame(Actual = test$MonthlyIncome, Predicted = pred_rf), aes(x = Actual, y = Predicted)) +\n",
        "  geom_point(alpha = 0.6, color = \"steelblue\") +\n",
        "  geom_abline(color = \"red\", linetype = \"dashed\") +\n",
        "  theme_minimal() +\n",
        "  labs(title = \"Predicted vs Actual Monthly Income\", x = \"Actual\", y = \"Predicted\")"
      ],
      "metadata": {
        "id": "bxNlar8Zx-uS"
      },
      "execution_count": null,
      "outputs": []
    },
    {
      "cell_type": "code",
      "source": [
        "plot(test$MonthlyIncome, pred_rf, col = \"blue\", main = \"Predicted vs Actual (Random Forest)\", xlab = \"Actual Monthly Income\", ylab = \"Predicted Monthly Income\")\n",
        "abline(0, 1, col = \"red\")"
      ],
      "metadata": {
        "id": "r1FX3r3cfArQ"
      },
      "execution_count": null,
      "outputs": []
    },
    {
      "cell_type": "code",
      "source": [
        "varImp(model_rf)"
      ],
      "metadata": {
        "id": "nuXthy4QfDbE"
      },
      "execution_count": null,
      "outputs": []
    },
    {
      "cell_type": "code",
      "source": [
        "test_results <- data.frame(Actual = test$MonthlyIncome, Predicted = pred_rf)\n",
        "test_results$Difference <- test_results$Predicted - test_results$Actual\n",
        "\n",
        "# Show top 10 underpaid employees\n",
        "head(arrange(test_results, Difference), 10)"
      ],
      "metadata": {
        "id": "sJKZz-ARyc3H"
      },
      "execution_count": null,
      "outputs": []
    },
    {
      "cell_type": "markdown",
      "source": [
        "# Clustering"
      ],
      "metadata": {
        "id": "ml1TWz3EJ1CY"
      }
    },
    {
      "cell_type": "code",
      "source": [
        "# Determine optimal number of clusters (Elbow Method)\n",
        "\n",
        "set.seed(123)\n",
        "\n",
        "fviz_nbclust(df_scaled, kmeans, method = \"wss\") +\n",
        "  geom_vline(xintercept = 3, linetype = 2) +\n",
        "  labs(subtitle = \"Elbow method\")"
      ],
      "metadata": {
        "id": "OBhf4ANJJ95F"
      },
      "execution_count": null,
      "outputs": []
    },
    {
      "cell_type": "code",
      "source": [
        "# Run k-means clustering\n",
        "# assume we got 3 from elbow method\n",
        "\n",
        "set.seed(123)\n",
        "\n",
        "km_res <- kmeans(df_scaled, centers = 3, nstart = 25)\n",
        "\n",
        "# Add cluster assignment to original data\n",
        "df_clustered <- df %>%\n",
        "  mutate(Cluster = as.factor(km_res$cluster))"
      ],
      "metadata": {
        "id": "ZikaXjOFgQKd"
      },
      "execution_count": null,
      "outputs": []
    },
    {
      "cell_type": "code",
      "source": [
        "# Visualize Clusters (PCA for Dimensionality Reduction)\n",
        "\n",
        "fviz_cluster(km_res, data = df_scaled,\n",
        "             ellipse.type = \"euclid\",\n",
        "             palette = \"jco\",\n",
        "             ggtheme = theme_minimal())\n"
      ],
      "metadata": {
        "id": "qsL_9U2_gxOQ"
      },
      "execution_count": null,
      "outputs": []
    },
    {
      "cell_type": "code",
      "source": [
        "# Profile Clusters\n",
        "# see what each clusters look like in terms of average values\n",
        "\n",
        "df_clustered %>%\n",
        "  group_by(Cluster) %>%\n",
        "  summarise(across(where(is.numeric), mean, na.rm = TRUE))"
      ],
      "metadata": {
        "id": "VHxoUIDsg5nh"
      },
      "execution_count": null,
      "outputs": []
    }
  ]
}